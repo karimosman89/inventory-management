{
 "cells": [
  {
   "cell_type": "code",
   "execution_count": null,
   "metadata": {
    "vscode": {
     "languageId": "plaintext"
    }
   },
   "outputs": [],
   "source": [
    "# Inventory Management Optimization Notebook\n",
    "\n",
    "# Import modules\n",
    "from src.forecast import load_data, preprocess_data, train_demand_forecasting_model, forecast_demand\n",
    "from src.optimization import optimize_inventory\n",
    "from src.utils import save_model, save_metrics\n",
    "\n",
    "import matplotlib.pyplot as plt\n",
    "\n",
    "# Step 1: Load and Preprocess Data\n",
    "file_path = \"../data/sales_data.csv\"  # Replace with the actual file path\n",
    "df = load_data(file_path)\n",
    "df = preprocess_data(df)\n",
    "\n",
    "# Step 2: Train Demand Forecasting Model\n",
    "model, rmse = train_demand_forecasting_model(df, target_column='sales')\n",
    "print(\"Demand Forecasting Model RMSE:\", rmse)\n",
    "\n",
    "# Step 3: Forecast Future Demand\n",
    "forecast_periods = 7  # Number of days to forecast\n",
    "X_future = pd.DataFrame({\n",
    "    'month': [1] * forecast_periods,\n",
    "    'day_of_week': range(forecast_periods)\n",
    "})\n",
    "forecasted_demand = forecast_demand(model, X_future)\n",
    "\n",
    "# Step 4: Optimize Inventory\n",
    "holding_cost = 2.0  # Cost per unit held in stock\n",
    "shortage_cost = 5.0  # Cost per unit short\n",
    "optimized_inventory = optimize_inventory(forecasted_demand, holding_cost, shortage_cost)\n",
    "\n",
    "# Step 5: Save Model and Metrics\n",
    "save_model(model, \"../src/forecasting_model.pkl\")\n",
    "save_metrics({\"RMSE\": rmse}, \"../data/metrics.json\")\n",
    "\n",
    "# Step 6: Visualization\n",
    "plt.figure(figsize=(10, 5))\n",
    "plt.plot(range(forecast_periods), forecasted_demand, label=\"Forecasted Demand\")\n",
    "plt.plot(range(forecast_periods), optimized_inventory, label=\"Optimized Inventory Levels\", linestyle='--')\n",
    "plt.xlabel(\"Day\")\n",
    "plt.ylabel(\"Units\")\n",
    "plt.title(\"Inventory Optimization Based on Forecasted Demand\")\n",
    "plt.legend()\n",
    "plt.show()\n"
   ]
  }
 ],
 "metadata": {
  "language_info": {
   "name": "python"
  }
 },
 "nbformat": 4,
 "nbformat_minor": 2
}
